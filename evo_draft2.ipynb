{
  "cells": [
    {
      "cell_type": "code",
      "execution_count": null,
      "id": "1f60de20",
      "metadata": {
        "id": "1f60de20"
      },
      "outputs": [],
      "source": [
        "import random\n",
        "import math\n",
        "import numpy as np\n",
        "import matplotlib.pyplot as plt"
      ]
    },
    {
      "cell_type": "code",
      "execution_count": null,
      "id": "a786a178",
      "metadata": {
        "id": "a786a178"
      },
      "outputs": [],
      "source": [
        "def spread(g): # input is gene\n",
        "    if g>=0:\n",
        "        return np.pi*(np.exp(-1*g) - 1/np.e)/(1-np.e**-1) # exp decay on both sides\n",
        "    else:\n",
        "        return np.pi*(np.exp(g) - 1/np.e)/(1-np.e**-1)\n",
        "\n",
        "def center(g):\n",
        "    return 0 if g>=0 else np.pi\n",
        "\n",
        "def y(x, rm, ro, g):\n",
        "    return (rm + 9*rm/10*(x-rm)/(rm-ro)) * np.abs(g) # ro maps to rm/10"
      ]
    },
    {
      "cell_type": "code",
      "execution_count": null,
      "id": "b00f4067",
      "metadata": {
        "id": "b00f4067"
      },
      "outputs": [],
      "source": [
        "class Food:\n",
        "    def __init__(self, x, y):\n",
        "        self.x = x\n",
        "        self.y = y\n",
        "\n",
        "class Creature:\n",
        "    def __init__(self, x, y, observation_radius, movement_radius, gene, energy=100):\n",
        "        self.x = x\n",
        "        self.y = y\n",
        "        self.observation_radius = observation_radius\n",
        "        self.movement_radius = movement_radius\n",
        "        self.gene = gene  # [reaction_to_food, reaction_to_prey, reaction_to_predator]\n",
        "        self.energy = energy\n",
        "        self.alive = True\n",
        "        self.food_eaten = 0\n",
        "        self.reproduction_threshold = 3  # Number of food items needed to reproduce\n",
        "\n",
        "    def distance(self, obj):\n",
        "        return np.sqrt((self.x - obj.x)**2 + (self.y - obj.y)**2)\n",
        "\n",
        "    def disp_vec(self, obj, obj_type):\n",
        "        # print(self, obj)\n",
        "        # obj_type can be 0, 1, 2 for food, prey and pred\n",
        "        if obj.x - self.x == 0:\n",
        "            theta = np.pi / 2\n",
        "        # elif\n",
        "        else:\n",
        "            theta = np.arctan2(obj.y - self.y, obj.x - self.x)\n",
        "        g = self.gene[obj_type]\n",
        "        c = center(g)\n",
        "        s = spread(g)\n",
        "        del_theta = np.random.uniform(c - s, c+s)\n",
        "        move_dist = y(self.distance(obj), self.movement_radius, self.observation_radius, g)\n",
        "        new_th = theta + del_theta\n",
        "        return np.array([move_dist*np.cos(new_th), move_dist*np.sin(new_th)]), np.array([c, s, del_theta, new_th]) * 180/np.pi\n",
        "\n",
        "\n",
        "\n",
        "    def act(self, food_list, prey_list, predator_list):\n",
        "        if not self.alive:\n",
        "            return None\n",
        "\n",
        "        res_vec = np.array([0., 0.])\n",
        "\n",
        "        # Check for food in observation radius\n",
        "        for food in food_list:\n",
        "            if self.distance(food) <= self.observation_radius:\n",
        "                res_vec += self.disp_vec(food, 0)[0]  # maybe make it a bit more efficient by putting if con in disp_vec\n",
        "\n",
        "        # Check for prey in observation radius (prey behavior or predator)\n",
        "        for prey in prey_list:\n",
        "            if self.distance(prey) <= self.observation_radius and self != prey and prey.alive:\n",
        "                res_vec += self.disp_vec(prey, 1)[0]\n",
        "\n",
        "        # Check for predator in observation radius\n",
        "        for predator in predator_list:\n",
        "            if self.distance(predator) <= self.observation_radius and self != predator and predator.alive:\n",
        "                res_vec += self.disp_vec(predator, 2)[0]\n",
        "\n",
        "        res_mag = np.linalg.norm(res_vec) # for max speed limit\n",
        "        if res_mag > self.movement_radius:\n",
        "            res_vec *= self.movement_radius / res_mag\n",
        "            # print(\"normed\")\n",
        "\n",
        "        self.x += res_vec[0]\n",
        "        self.y += res_vec[1]\n",
        "\n",
        "        # Lose energy for every move\n",
        "        self.energy -= 1\n",
        "\n",
        "        # If energy is 0, the creature dies\n",
        "        if self.energy <= 0:\n",
        "            self.alive = False"
      ]
    },
    {
      "cell_type": "code",
      "execution_count": null,
      "id": "6f1008c9",
      "metadata": {
        "colab": {
          "base_uri": "https://localhost:8080/"
        },
        "id": "6f1008c9",
        "outputId": "0ede9c70-f3db-4483-de66-6c92f13da27c"
      },
      "outputs": [
        {
          "output_type": "stream",
          "name": "stdout",
          "text": [
            "False\n",
            "(array([0.27781746, 0.27781746]), array([ 0.,  0.,  0., 45.]))\n"
          ]
        }
      ],
      "source": [
        "prey = Creature(0 ,0, 10, 1, gene = [1, 0, -1])\n",
        "food = Food(5 ,5)\n",
        "b = [prey , food]\n",
        "\n",
        "print(prey == b[1])\n",
        "print(prey.disp_vec(food, 0))"
      ]
    },
    {
      "cell_type": "code",
      "source": [
        "class Prey(Creature):\n",
        "    def __init__(self, x, y, observation_radius, movement_radius, gene):\n",
        "        super().__init__(x, y, observation_radius, movement_radius, gene)\n",
        "\n",
        "    def eat(self, food_list):\n",
        "        if not self.alive:\n",
        "            return None\n",
        "\n",
        "        for food in food_list:\n",
        "            if self.distance(food) <= self.movement_radius:  # Same position as food\n",
        "                self.food_eaten += 1\n",
        "                self.energy += 20\n",
        "                food_list.remove(food)\n",
        "                break\n",
        "\n",
        "    def reproduce(self):\n",
        "        if self.food_eaten >= self.reproduction_threshold:\n",
        "            self.food_eaten = 0  # Reset after reproduction\n",
        "            # Mutate gene slightly (add small random change)\n",
        "            new_gene = [min(max(g + random.uniform(-0.1, 0.1), -1), 1) for g in self.gene]\n",
        "            return Prey(self.x, self.y, self.observation_radius, self.movement_radius, new_gene)\n",
        "        return None\n",
        "\n",
        "class Predator(Creature):\n",
        "    def __init__(self, x, y, observation_radius, movement_radius, gene):\n",
        "        super().__init__(x, y, observation_radius, movement_radius, gene)\n",
        "\n",
        "    def eat(self, prey_list):\n",
        "        if not self.alive:\n",
        "            return None\n",
        "\n",
        "        for prey in prey_list:\n",
        "            if self.distance(prey) < self.movement_radius and prey.alive:  # Same position as prey\n",
        "                self.energy += 50\n",
        "                prey.alive = False\n",
        "                break\n",
        "\n",
        "    def reproduce(self):\n",
        "        if self.energy >= 150:  # Energy threshold for predator to reproduce\n",
        "            self.energy -= 50  # Energy cost for reproduction\n",
        "            # Mutate gene slightly\n",
        "            new_gene = [min(max(g + random.uniform(-0.1, 0.1), -1), 1) for g in self.gene]\n",
        "            return Predator(self.x, self.y, self.observation_radius, self.movement_radius, new_gene)\n",
        "        return None"
      ],
      "metadata": {
        "id": "m-JACRGkeklb"
      },
      "id": "m-JACRGkeklb",
      "execution_count": null,
      "outputs": []
    },
    {
      "cell_type": "code",
      "source": [
        "p1 = Prey(0 ,0, 100, 10, gene = [1, 0, -1])\n",
        "p2 = Prey(70 ,50, 100, 10, gene = [1, 0, -1])\n",
        "\n",
        "f1 = Food(10, -15)\n",
        "f2 = Food(20, 40)\n",
        "\n",
        "pred = Predator(-20, 0, 100, 12, gene = [0, 1, 0])\n",
        "\n",
        "foods = [f1, f2]\n",
        "preys = [p1, p2]\n",
        "preds=[pred]\n",
        "\n",
        "xs, ys = [], []\n",
        "xs2, ys2 = [], []\n",
        "xsp, ysp = [], []\n",
        "\n",
        "# pred.act(foods, preys, preds)\n",
        "# print(pred.x, pred.y)\n",
        "\n",
        "for _ in range(5):\n",
        "    # plt.scatter(p1.x, p1.y)\n",
        "    xs.append(p1.x)\n",
        "    ys.append(p1.y)\n",
        "\n",
        "    xs2.append(p2.x)\n",
        "    ys2.append(p2.y)\n",
        "\n",
        "    xsp.append(pred.x)\n",
        "    ysp.append(pred.y)\n",
        "\n",
        "    p1.act(foods, preys, preds)\n",
        "    p2.act(foods, preys, preds)\n",
        "    pred.act(foods, preys, preds)\n",
        "\n",
        "    p1.eat(foods)\n",
        "    p2.eat(foods)\n",
        "    pred.eat(preys)\n",
        "    print(p1.alive, p2.alive, len(foods))\n",
        "\n",
        "plt.gca().set_aspect('equal')\n",
        "\n",
        "plt.plot(xs, ys, label=\"p1\")\n",
        "plt.scatter(xs, ys)\n",
        "\n",
        "plt.plot(xs2, ys2, label=\"p2\")\n",
        "plt.scatter(xs2, ys2)\n",
        "\n",
        "plt.plot(xsp, ysp, label=\"pred\")\n",
        "plt.scatter(xsp, ysp)\n",
        "\n",
        "plt.scatter(f1.x, f1.y)\n",
        "plt.scatter(f2.x, f2.y)\n",
        "\n",
        "plt.legend()"
      ],
      "metadata": {
        "colab": {
          "base_uri": "https://localhost:8080/",
          "height": 522
        },
        "id": "A7y69BYMrIiK",
        "outputId": "60119dda-7042-452f-bf07-753c7a062d33"
      },
      "id": "A7y69BYMrIiK",
      "execution_count": null,
      "outputs": [
        {
          "output_type": "stream",
          "name": "stdout",
          "text": [
            "True True 2\n",
            "True True 2\n",
            "False True 2\n",
            "False True 2\n",
            "False True 2\n"
          ]
        },
        {
          "output_type": "execute_result",
          "data": {
            "text/plain": [
              "<matplotlib.legend.Legend at 0x7eedf0a0f670>"
            ]
          },
          "metadata": {},
          "execution_count": 19
        },
        {
          "output_type": "display_data",
          "data": {
            "text/plain": [
              "<Figure size 640x480 with 1 Axes>"
            ],
            "image/png": "[encoded data removed]"
          },
          "metadata": {}
        }
      ]
    },
    {
      "cell_type": "code",
      "source": [
        "def spawn_creatures(num_prey, num_predators, grid_size):\n",
        "    prey_list = [Prey(random.uniform(-1*grid_size, grid_size), random.randint(-1*grid_size, grid_size),\n",
        "                      observation_radius=10,\n",
        "                      movement_radius = 1,\n",
        "                      gene=[random.uniform(-1, 1) for _ in range(3)]) for _ in range(num_prey)]\n",
        "    predator_list = [Predator(random.uniform(-1*grid_size, grid_size), random.uniform(-1*grid_size, grid_size),\n",
        "                              observation_radius=10,\n",
        "                              movement_radius = 1,\n",
        "                              gene=[random.uniform(-1, 1) for _ in range(3)]) for _ in range(num_predators)]\n",
        "    return prey_list, predator_list\n",
        "\n",
        "def spawn_food(num_food, grid_size):\n",
        "    return [Food(random.randint(0, grid_size-1), random.randint(0, grid_size-1)) for _ in range(num_food)]\n"
      ],
      "metadata": {
        "id": "JeSKfqXshk5w"
      },
      "id": "JeSKfqXshk5w",
      "execution_count": null,
      "outputs": []
    },
    {
      "cell_type": "code",
      "source": [],
      "metadata": {
        "id": "Zdh2GtUoiCQ9"
      },
      "id": "Zdh2GtUoiCQ9",
      "execution_count": null,
      "outputs": []
    },
    {
      "cell_type": "code",
      "execution_count": null,
      "id": "73aad8d1",
      "metadata": {
        "id": "73aad8d1"
      },
      "outputs": [],
      "source": []
    },
    {
      "cell_type": "code",
      "source": [],
      "metadata": {
        "id": "qMc59dRFZwd0"
      },
      "id": "qMc59dRFZwd0",
      "execution_count": null,
      "outputs": []
    }
  ],
  "metadata": {
    "kernelspec": {
      "display_name": "Python 3 (ipykernel)",
      "language": "python",
      "name": "python3"
    },
    "language_info": {
      "codemirror_mode": {
        "name": "ipython",
        "version": 3
      },
      "file_extension": ".py",
      "mimetype": "text/x-python",
      "name": "python",
      "nbconvert_exporter": "python",
      "pygments_lexer": "ipython3",
      "version": "3.9.13"
    },
    "colab": {
      "provenance": []
    }
  },
  "nbformat": 4,
  "nbformat_minor": 5
}